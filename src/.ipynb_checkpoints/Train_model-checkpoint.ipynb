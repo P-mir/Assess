{
 "cells": [
  {
   "cell_type": "code",
   "execution_count": 1,
   "metadata": {},
   "outputs": [
    {
     "name": "stdout",
     "output_type": "stream",
     "text": [
      "x_train shape:  (79, 6)\n",
      "Numeric columns: ['sepallength', 'sepalwidth', 'petallength', 'petalwidth']\n",
      "categorical columns: ['category', 'category2']\n",
      "column petallength: 1 values imputed.\n",
      "column petalwidth: 1 values imputed.\n",
      "column category: 3 values imputed.\n",
      "column category2: 2 values imputed.\n"
     ]
    },
    {
     "data": {
      "text/html": [
       "<div>\n",
       "<style scoped>\n",
       "    .dataframe tbody tr th:only-of-type {\n",
       "        vertical-align: middle;\n",
       "    }\n",
       "\n",
       "    .dataframe tbody tr th {\n",
       "        vertical-align: top;\n",
       "    }\n",
       "\n",
       "    .dataframe thead th {\n",
       "        text-align: right;\n",
       "    }\n",
       "</style>\n",
       "<table border=\"1\" class=\"dataframe\">\n",
       "  <thead>\n",
       "    <tr style=\"text-align: right;\">\n",
       "      <th></th>\n",
       "      <th>sepallength</th>\n",
       "      <th>sepalwidth</th>\n",
       "      <th>petallength</th>\n",
       "      <th>petalwidth</th>\n",
       "      <th>category_A</th>\n",
       "      <th>category_B</th>\n",
       "      <th>category2_D</th>\n",
       "      <th>category2_E</th>\n",
       "    </tr>\n",
       "  </thead>\n",
       "  <tbody>\n",
       "    <tr>\n",
       "      <th>49</th>\n",
       "      <td>7.0</td>\n",
       "      <td>3.2</td>\n",
       "      <td>4.7</td>\n",
       "      <td>1.4</td>\n",
       "      <td>0</td>\n",
       "      <td>1</td>\n",
       "      <td>0</td>\n",
       "      <td>1</td>\n",
       "    </tr>\n",
       "    <tr>\n",
       "      <th>70</th>\n",
       "      <td>6.1</td>\n",
       "      <td>2.8</td>\n",
       "      <td>4.0</td>\n",
       "      <td>1.3</td>\n",
       "      <td>0</td>\n",
       "      <td>1</td>\n",
       "      <td>1</td>\n",
       "      <td>0</td>\n",
       "    </tr>\n",
       "    <tr>\n",
       "      <th>68</th>\n",
       "      <td>5.6</td>\n",
       "      <td>2.5</td>\n",
       "      <td>3.9</td>\n",
       "      <td>1.1</td>\n",
       "      <td>0</td>\n",
       "      <td>1</td>\n",
       "      <td>1</td>\n",
       "      <td>0</td>\n",
       "    </tr>\n",
       "  </tbody>\n",
       "</table>\n",
       "</div>"
      ],
      "text/plain": [
       "    sepallength  sepalwidth  petallength  petalwidth  category_A  category_B  \\\n",
       "49          7.0         3.2          4.7         1.4           0           1   \n",
       "70          6.1         2.8          4.0         1.3           0           1   \n",
       "68          5.6         2.5          3.9         1.1           0           1   \n",
       "\n",
       "    category2_D  category2_E  \n",
       "49            0            1  \n",
       "70            1            0  \n",
       "68            1            0  "
      ]
     },
     "execution_count": 1,
     "metadata": {},
     "output_type": "execute_result"
    }
   ],
   "source": [
    "from utils.MLutils import Preprocess, Model, explain\n",
    "from utils.MLflow import track\n",
    "import numpy as np\n",
    "import pandas as pd\n",
    "pd.set_option('display.max_rows', 500)\n",
    "import copy\n",
    "\n",
    "from sklearn.model_selection import train_test_split\n",
    "from sklearn.metrics import accuracy_score, mean_squared_error\n",
    "\n",
    "\n",
    "df = pd.read_csv('../data/iris2.csv', index_col=False, header=0) # multiclass classification\n",
    "df = df[(df['label']== 'Iris-setosa') | (df['label']== 'Iris-versicolor')] # binary clas\n",
    "# df = pd.read_csv('../data/diabete.csv', index_col=False, header=0) # regression case\n",
    "\n",
    "X = df.drop('label', axis=1)\n",
    "Y = df.label\n",
    "\n",
    "# X = feature_engineering(X,\n",
    "#                     add_missing_flags = True # useful if missing value are not MCAR\n",
    "#                     )\n",
    "\n",
    "x_train, x_test, y_train, y_test = train_test_split(X, Y, test_size=0.2, random_state=42)\n",
    "\n",
    "#create the pipeline and make the transform\n",
    "preprocessing = Preprocess(\n",
    "#     scaler = 'normalize',\n",
    "    numeric_na_fill_method = 'median',\n",
    "    category_na_fill_method = 'mode'\n",
    "    )\n",
    "print(\"x_train shape: \", x_train.shape)\n",
    "x_train_preprocessed = preprocessing.fit_transform(x_train)\n",
    "x_test_preprocessed = preprocessing.transform(x_test, verbose=False)\n",
    "x_train_preprocessed.head(3)"
   ]
  },
  {
   "cell_type": "code",
   "execution_count": 2,
   "metadata": {},
   "outputs": [],
   "source": [
    "my_model = Model.getModel(task = \"classification\",n_jobs=1)\n",
    "model = my_model.fit(x_train_preprocessed,y_train)\n",
    "y_pred = model.predict(x_test_preprocessed)\n",
    "# mean_squared_error(y_pred, y_test, squared=False)"
   ]
  },
  {
   "cell_type": "code",
   "execution_count": 3,
   "metadata": {},
   "outputs": [
    {
     "data": {
      "text/plain": [
       "array(['Iris-setosa', 'Iris-versicolor'], dtype=object)"
      ]
     },
     "execution_count": 3,
     "metadata": {},
     "output_type": "execute_result"
    }
   ],
   "source": [
    "model.classes_"
   ]
  },
  {
   "cell_type": "code",
   "execution_count": 4,
   "metadata": {},
   "outputs": [
    {
     "name": "stderr",
     "output_type": "stream",
     "text": [
      "Setting feature_perturbation = \"tree_path_dependent\" because no background data was given.\n",
      "NPY_ARRAY_UPDATEIFCOPY, NPY_ARRAY_INOUT_ARRAY, and NPY_ARRAY_INOUT_FARRAY are deprecated, use NPY_WRITEBACKIFCOPY, NPY_ARRAY_INOUT_ARRAY2, or NPY_ARRAY_INOUT_FARRAY2 respectively instead, and call PyArray_ResolveWritebackIfCopy before the array is deallocated, i.e. before the last call to Py_DECREF.\n",
      "UPDATEIFCOPY detected in array_dealloc.  Required call to PyArray_ResolveWritebackIfCopy or PyArray_DiscardWritebackIfCopy is missing\n"
     ]
    }
   ],
   "source": [
    "metrics, params, artifacts = my_model.compute_metrics_and_graphs(y_pred, y_test, output_path = \"outputs/plots/mlflow_artifacts\")\n",
    "explain(x_train_preprocessed, model, task='classification', path = \"outputs/plots/mlflow_artifacts/shap\")\n",
    "track(metrics, params, artifacts, model, preprocessing, mlflow_dir= './mlruns', artifacts_path = \"outputs/plots/mlflow_artifacts\")"
   ]
  },
  {
   "cell_type": "code",
   "execution_count": 22,
   "metadata": {},
   "outputs": [
    {
     "data": {
      "text/plain": [
       "{'precision_test': 1.0,\n",
       " 'recall_test': 1.0,\n",
       " 'accuracy_test': 1.0,\n",
       " 'accuracy_validation': 1.0}"
      ]
     },
     "execution_count": 22,
     "metadata": {},
     "output_type": "execute_result"
    }
   ],
   "source": [
    "metrics"
   ]
  }
 ],
 "metadata": {
  "kernelspec": {
   "display_name": "Python 3",
   "language": "python",
   "name": "python3"
  },
  "language_info": {
   "codemirror_mode": {
    "name": "ipython",
    "version": 3
   },
   "file_extension": ".py",
   "mimetype": "text/x-python",
   "name": "python",
   "nbconvert_exporter": "python",
   "pygments_lexer": "ipython3",
   "version": "3.8.2"
  }
 },
 "nbformat": 4,
 "nbformat_minor": 4
}
