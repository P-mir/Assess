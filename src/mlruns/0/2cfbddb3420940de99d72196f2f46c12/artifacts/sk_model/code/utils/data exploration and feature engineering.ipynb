{
 "cells": [
  {
   "cell_type": "code",
   "execution_count": null,
   "metadata": {},
   "outputs": [],
   "source": [
    "import pandas as pd # !pip install https://github.com/pandas-profiling/pandas-profiling/archive/master.zip\n",
    "from pandas_profiling import ProfileReport\n",
    "df = pd.read_csv('data/iris2.csv', index_col=False, header=0)\n",
    "profile = ProfileReport(df, progress_bar=True, minimal=False) #plot={'histogram': {'bins': 20}}\n",
    "# profile.to_file(\"output.html\")\n",
    "# profile"
   ]
  },
  {
   "cell_type": "markdown",
   "metadata": {},
   "source": [
    "## Automated data exploration"
   ]
  },
  {
   "cell_type": "code",
   "execution_count": null,
   "metadata": {},
   "outputs": [],
   "source": [
    "import pandas as pd # !pip install https://github.com/pandas-profiling/pandas-profiling/archive/master.zip\n",
    "from pandas_profiling import ProfileReport\n",
    "df = pd.read_csv('data/iris2.csv', index_col=False, header=0)\n",
    "profile = ProfileReport(df, progress_bar=True, minimal=False) #plot={'histogram': {'bins': 20}}\n",
    "# profile.to_file(\"output.html\")\n",
    "# profile"
   ]
  },
  {
   "cell_type": "markdown",
   "metadata": {},
   "source": [
    "## Automated feature preprocessing for transactional and time series data"
   ]
  },
  {
   "cell_type": "code",
   "execution_count": null,
   "metadata": {},
   "outputs": [],
   "source": [
    "import featuretools as ft\n",
    "es = ft.EntitySet(id=\"data\")\n",
    "es = es.entity_from_dataframe(entity_id=\"data\",\n",
    "                               dataframe=df.reset_index()\n",
    "                             )\n",
    "feature_matrix, feature_defs = ft.dfs(entityset=es,\n",
    "                                       target_entity=\"data\",\n",
    "#                                       agg_primitives=[\"mean\", \"max\", \"min\", \"std\", \"skew\"] #,necessitates a parent-child relation to work\n",
    "                                     trans_primitives = ['add_numeric', 'multiply_numeric'] # for ts: cus_sum  -  list of primitive: ft.list_primitives()\n",
    "                                     )\n",
    "# feature_matrix"
   ]
  }
 ],
 "metadata": {
  "kernelspec": {
   "display_name": "Python 3",
   "language": "python",
   "name": "python3"
  },
  "language_info": {
   "codemirror_mode": {
    "name": "ipython",
    "version": 3
   },
   "file_extension": ".py",
   "mimetype": "text/x-python",
   "name": "python",
   "nbconvert_exporter": "python",
   "pygments_lexer": "ipython3",
   "version": "3.8.2"
  }
 },
 "nbformat": 4,
 "nbformat_minor": 4
}
