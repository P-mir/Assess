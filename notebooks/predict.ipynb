{
 "cells": [
  {
   "cell_type": "markdown",
   "metadata": {},
   "source": [
    "# Use the model deployed for prediction"
   ]
  },
  {
   "cell_type": "code",
   "execution_count": 1,
   "metadata": {},
   "outputs": [],
   "source": [
    "import requests\n",
    "import pandas as pd"
   ]
  },
  {
   "cell_type": "code",
   "execution_count": 7,
   "metadata": {},
   "outputs": [
    {
     "data": {
      "text/plain": [
       "'{\"columns\":[\"sepallength\",\"sepalwidth\",\"petallength\",\"petalwidth\",\"category\",\"category2\"],\"index\":[0,1,2,3,4,5,6,7,8,9,10,11,12,13,14,15,16,17,18,19,20,21,22,23,24,25,26,27,28,29,30,31,32,33,34,35,36,37,38,39,40,41,42,43,44,45,46,47,48,49,50,51,52,53,54,55,56,57,58,59,60,61,62,63,64,65,66,67,68,69,70,71,72,73,74,75,76,77,78,79,80,81,82,83,84,85,86,87,88,89,90,91,92,93,94,95,96,97,98,99,100,101,102,103,104,105,106,107,108,109,110,111,112,113,114,115,116,117,118,119,120,121,122,123,124,125,126,127,128,129,130,131,132,133,134,135,136,137,138,139,140,141,142,143,144,145,146,147,148],\"data\":[[4.9,3.0,1.4,0.2,\"A\",\"E\"],[4.7,3.2,1.3,0.2,\"A\",\"E\"],[4.6,3.1,1.5,0.2,\"A\",\"E\"],[5.0,3.6,1.4,0.2,\"B\",\"E\"],[5.4,3.9,1.7,0.4,\"B\",\"E\"],[4.6,3.4,1.4,0.3,\"A\",\"E\"],[5.0,3.4,1.5,0.2,\"B\",\"E\"],[4.4,2.9,1.4,0.2,\"A\",null],[4.9,3.1,1.5,0.1,\"A\",\"E\"],[5.4,3.7,1.5,0.2,\"B\",\"E\"],[4.8,3.4,1.6,0.2,\"A\",null],[4.8,3.0,1.4,0.1,\"A\",\"E\"],[4.3,3.0,1.1,0.1,\"A\",\"E\"],[5.8,4.0,1.2,0.2,\"B\",\"E\"],[5.7,4.4,1.5,0.4,\"B\",null],[5.4,3.9,1.3,0.4,\"B\",\"E\"],[5.1,3.5,1.4,0.3,\"B\",\"E\"],[5.7,3.8,1.7,0.3,null,\"E\"],[5.1,3.8,1.5,0.3,\"B\",\"E\"],[5.4,3.4,1.7,0.2,\"B\",\"E\"],[5.1,3.7,1.5,0.4,\"B\",\"E\"],[4.6,3.6,1.0,0.2,\"A\",\"E\"],[5.1,3.3,1.7,0.5,\"B\",\"E\"],[4.8,3.4,1.9,0.2,\"A\",\"E\"],[5.0,3.0,null,0.2,null,\"E\"],[5.0,3.4,1.6,0.4,null,\"E\"],[5.2,3.5,1.5,0.2,\"B\",\"E\"],[5.2,3.4,1.4,0.2,\"B\",\"E\"],[4.7,3.2,1.6,0.2,\"A\",\"E\"],[4.8,3.1,1.6,null,\"A\",\"E\"],[5.4,3.4,1.5,0.4,\"B\",\"E\"],[5.2,4.1,1.5,0.1,\"B\",\"E\"],[5.5,4.2,1.4,0.2,\"B\",\"E\"],[4.9,3.1,1.5,0.1,\"A\",\"E\"],[5.0,3.2,1.2,0.2,\"B\",\"E\"],[5.5,3.5,1.3,0.2,\"B\",\"E\"],[4.9,3.1,1.5,0.1,\"A\",\"E\"],[4.4,3.0,1.3,0.2,\"A\",\"E\"],[5.1,3.4,1.5,0.2,\"B\",\"E\"],[5.0,3.5,1.3,0.3,\"B\",\"E\"],[4.5,2.3,1.3,0.3,\"A\",\"D\"],[4.4,3.2,1.3,0.2,\"A\",\"E\"],[5.0,3.5,1.6,0.6,\"B\",\"E\"],[5.1,3.8,1.9,0.4,\"B\",\"E\"],[4.8,3.0,1.4,0.3,\"A\",\"E\"],[5.1,3.8,1.6,0.2,\"B\",\"E\"],[4.6,3.2,1.4,0.2,\"A\",\"E\"],[5.3,3.7,1.5,0.2,\"B\",\"E\"],[5.0,3.3,1.4,0.2,\"B\",\"E\"],[7.0,3.2,4.7,1.4,\"B\",\"E\"],[6.4,3.2,4.5,1.5,\"B\",\"E\"],[6.9,3.1,4.9,1.5,\"B\",\"E\"],[5.5,2.3,4.0,1.3,\"B\",\"D\"],[6.5,2.8,4.6,1.5,\"B\",\"D\"],[5.7,2.8,4.5,1.3,\"B\",\"D\"],[6.3,3.3,4.7,1.6,\"B\",\"E\"],[4.9,2.4,3.3,1.0,\"A\",\"D\"],[6.6,2.9,4.6,1.3,\"B\",\"D\"],[5.2,2.7,3.9,1.4,\"B\",\"D\"],[5.0,2.0,3.5,1.0,\"B\",\"D\"],[5.9,3.0,4.2,1.5,\"B\",\"E\"],[6.0,2.2,4.0,1.0,\"B\",\"D\"],[6.1,2.9,4.7,1.4,\"B\",\"D\"],[5.6,2.9,3.6,1.3,\"B\",\"D\"],[6.7,3.1,4.4,1.4,\"B\",\"E\"],[5.6,3.0,4.5,1.5,\"B\",\"E\"],[5.8,2.7,4.1,1.0,\"B\",\"D\"],[6.2,2.2,4.5,1.5,\"B\",\"D\"],[5.6,2.5,3.9,1.1,\"B\",\"D\"],[5.9,3.2,4.8,1.8,\"B\",\"E\"],[6.1,2.8,4.0,1.3,\"B\",\"D\"],[6.3,2.5,4.9,1.5,\"B\",\"D\"],[6.1,2.8,4.7,1.2,\"B\",\"D\"],[6.4,2.9,4.3,1.3,\"B\",\"D\"],[6.6,3.0,4.4,1.4,\"B\",\"E\"],[6.8,2.8,4.8,1.4,\"B\",\"D\"],[6.7,3.0,5.0,1.7,\"B\",\"E\"],[6.0,2.9,4.5,1.5,\"B\",\"D\"],[5.7,2.6,3.5,1.0,\"B\",\"D\"],[5.5,2.4,3.8,1.1,\"B\",\"D\"],[5.5,2.4,3.7,1.0,\"B\",\"D\"],[5.8,2.7,3.9,1.2,\"B\",\"D\"],[6.0,2.7,5.1,1.6,\"B\",\"D\"],[5.4,3.0,4.5,1.5,\"B\",\"E\"],[6.0,3.4,4.5,1.6,\"B\",\"E\"],[6.7,3.1,4.7,1.5,\"B\",\"E\"],[6.3,2.3,4.4,1.3,\"B\",\"D\"],[5.6,3.0,4.1,1.3,\"B\",\"E\"],[5.5,2.5,4.0,1.3,\"B\",\"D\"],[5.5,2.6,4.4,1.2,\"B\",\"D\"],[6.1,3.0,4.6,1.4,\"B\",\"E\"],[5.8,2.6,4.0,1.2,\"B\",\"D\"],[5.0,2.3,3.3,1.0,\"B\",\"D\"],[5.6,2.7,4.2,1.3,\"B\",\"D\"],[5.7,3.0,4.2,1.2,\"B\",\"E\"],[5.7,2.9,4.2,1.3,\"B\",\"D\"],[6.2,2.9,4.3,1.3,\"B\",\"D\"],[5.1,2.5,3.0,1.1,\"B\",\"D\"],[5.7,2.8,4.1,1.3,\"B\",\"D\"],[6.3,3.3,6.0,2.5,\"B\",\"E\"],[5.8,2.7,5.1,1.9,\"B\",\"D\"],[7.1,3.0,5.9,2.1,\"B\",\"E\"],[6.3,2.9,5.6,1.8,\"B\",\"D\"],[6.5,3.0,5.8,2.2,\"B\",\"E\"],[7.6,3.0,6.6,2.1,\"B\",\"E\"],[4.9,2.5,4.5,1.7,\"A\",\"D\"],[7.3,2.9,6.3,1.8,\"B\",\"D\"],[6.7,2.5,5.8,1.8,\"B\",\"D\"],[7.2,3.6,6.1,2.5,\"B\",\"E\"],[6.5,3.2,5.1,2.0,\"B\",\"E\"],[6.4,2.7,5.3,1.9,\"B\",\"D\"],[6.8,3.0,5.5,2.1,\"B\",\"E\"],[5.7,2.5,5.0,2.0,\"B\",\"D\"],[5.8,2.8,5.1,2.4,\"B\",\"D\"],[6.4,3.2,5.3,2.3,\"B\",\"E\"],[6.5,3.0,5.5,1.8,\"B\",\"E\"],[7.7,3.8,6.7,2.2,\"B\",\"E\"],[7.7,2.6,6.9,2.3,\"B\",\"D\"],[6.0,2.2,5.0,1.5,\"B\",\"D\"],[6.9,3.2,5.7,2.3,\"B\",\"E\"],[5.6,2.8,4.9,2.0,\"B\",\"D\"],[7.7,2.8,6.7,2.0,\"B\",\"D\"],[6.3,2.7,4.9,1.8,\"B\",\"D\"],[6.7,3.3,5.7,2.1,\"B\",\"E\"],[7.2,3.2,6.0,1.8,\"B\",\"E\"],[6.2,2.8,4.8,1.8,\"B\",\"D\"],[6.1,3.0,4.9,1.8,\"B\",\"E\"],[6.4,2.8,5.6,2.1,\"B\",\"D\"],[7.2,3.0,5.8,1.6,\"B\",\"E\"],[7.4,2.8,6.1,1.9,\"B\",\"D\"],[7.9,3.8,6.4,2.0,\"B\",\"E\"],[6.4,2.8,5.6,2.2,\"B\",\"D\"],[6.3,2.8,5.1,1.5,\"B\",\"D\"],[6.1,2.6,5.6,1.4,\"B\",\"D\"],[7.7,3.0,6.1,2.3,\"B\",\"E\"],[6.3,3.4,5.6,2.4,\"B\",\"E\"],[6.4,3.1,5.5,1.8,\"B\",\"E\"],[6.0,3.0,4.8,1.8,\"B\",\"E\"],[6.9,3.1,5.4,2.1,\"B\",\"E\"],[6.7,3.1,5.6,2.4,\"B\",\"E\"],[6.9,3.1,5.1,2.3,\"B\",\"E\"],[5.8,2.7,5.1,1.9,\"B\",\"D\"],[6.8,3.2,5.9,2.3,\"B\",\"E\"],[6.7,3.3,5.7,2.5,\"B\",\"E\"],[6.7,3.0,5.2,2.3,\"B\",\"E\"],[6.3,2.5,5.0,1.9,\"B\",\"D\"],[6.5,3.0,5.2,2.0,\"B\",\"E\"],[6.2,3.4,5.4,2.3,\"B\",\"E\"],[5.9,3.0,5.1,1.8,\"B\",\"E\"]]}'"
      ]
     },
     "execution_count": 7,
     "metadata": {},
     "output_type": "execute_result"
    }
   ],
   "source": [
    "df = pd.read_csv('../data/iris2.csv', index_col=False, header=0)\n",
    "test_data = df\n",
    "\n",
    "X = df.drop('label', axis=1)\n",
    "Y = df.label\n",
    "\n",
    "http_data = X.to_json(orient='split')\n",
    "http_data"
   ]
  },
  {
   "cell_type": "code",
   "execution_count": 9,
   "metadata": {},
   "outputs": [
    {
     "data": {
      "text/plain": [
       "'[\"Iris-setosa\", \"Iris-setosa\", \"Iris-setosa\", \"Iris-setosa\", \"Iris-setosa\", \"Iris-setosa\", \"Iris-setosa\", \"Iris-setosa\", \"Iris-setosa\", \"Iris-setosa\", \"Iris-setosa\", \"Iris-setosa\", \"Iris-setosa\", \"Iris-setosa\", \"Iris-setosa\", \"Iris-setosa\", \"Iris-setosa\", \"Iris-setosa\", \"Iris-setosa\", \"Iris-setosa\", \"Iris-setosa\", \"Iris-setosa\", \"Iris-setosa\", \"Iris-setosa\", \"Iris-setosa\", \"Iris-setosa\", \"Iris-setosa\", \"Iris-setosa\", \"Iris-setosa\", \"Iris-setosa\", \"Iris-setosa\", \"Iris-setosa\", \"Iris-setosa\", \"Iris-setosa\", \"Iris-setosa\", \"Iris-setosa\", \"Iris-setosa\", \"Iris-setosa\", \"Iris-setosa\", \"Iris-setosa\", \"Iris-setosa\", \"Iris-setosa\", \"Iris-setosa\", \"Iris-setosa\", \"Iris-setosa\", \"Iris-setosa\", \"Iris-setosa\", \"Iris-setosa\", \"Iris-setosa\", \"Iris-versicolor\", \"Iris-versicolor\", \"Iris-virginica\", \"Iris-versicolor\", \"Iris-versicolor\", \"Iris-versicolor\", \"Iris-versicolor\", \"Iris-versicolor\", \"Iris-versicolor\", \"Iris-versicolor\", \"Iris-versicolor\", \"Iris-versicolor\", \"Iris-versicolor\", \"Iris-versicolor\", \"Iris-versicolor\", \"Iris-versicolor\", \"Iris-versicolor\", \"Iris-versicolor\", \"Iris-versicolor\", \"Iris-versicolor\", \"Iris-virginica\", \"Iris-versicolor\", \"Iris-versicolor\", \"Iris-versicolor\", \"Iris-versicolor\", \"Iris-versicolor\", \"Iris-versicolor\", \"Iris-virginica\", \"Iris-versicolor\", \"Iris-versicolor\", \"Iris-versicolor\", \"Iris-versicolor\", \"Iris-versicolor\", \"Iris-virginica\", \"Iris-versicolor\", \"Iris-versicolor\", \"Iris-versicolor\", \"Iris-versicolor\", \"Iris-versicolor\", \"Iris-versicolor\", \"Iris-versicolor\", \"Iris-versicolor\", \"Iris-versicolor\", \"Iris-versicolor\", \"Iris-versicolor\", \"Iris-versicolor\", \"Iris-versicolor\", \"Iris-versicolor\", \"Iris-versicolor\", \"Iris-versicolor\", \"Iris-virginica\", \"Iris-virginica\", \"Iris-virginica\", \"Iris-virginica\", \"Iris-virginica\", \"Iris-virginica\", \"Iris-versicolor\", \"Iris-virginica\", \"Iris-virginica\", \"Iris-virginica\", \"Iris-virginica\", \"Iris-virginica\", \"Iris-virginica\", \"Iris-virginica\", \"Iris-virginica\", \"Iris-virginica\", \"Iris-virginica\", \"Iris-virginica\", \"Iris-virginica\", \"Iris-virginica\", \"Iris-virginica\", \"Iris-versicolor\", \"Iris-virginica\", \"Iris-virginica\", \"Iris-virginica\", \"Iris-virginica\", \"Iris-versicolor\", \"Iris-virginica\", \"Iris-virginica\", \"Iris-virginica\", \"Iris-virginica\", \"Iris-virginica\", \"Iris-virginica\", \"Iris-virginica\", \"Iris-virginica\", \"Iris-virginica\", \"Iris-virginica\", \"Iris-virginica\", \"Iris-versicolor\", \"Iris-virginica\", \"Iris-virginica\", \"Iris-virginica\", \"Iris-virginica\", \"Iris-virginica\", \"Iris-virginica\", \"Iris-virginica\", \"Iris-virginica\", \"Iris-virginica\", \"Iris-virginica\", \"Iris-virginica\"]'"
      ]
     },
     "execution_count": 9,
     "metadata": {},
     "output_type": "execute_result"
    }
   ],
   "source": [
    "host = '127.0.0.1'\n",
    "port = '1234'\n",
    "url = f'http://{host}:{port}/invocations'\n",
    "headers = {'Content-Type':'application/json'}\n",
    "r = requests.post(url=url, headers= headers, data=http_data)\n",
    "r.text"
   ]
  },
  {
   "cell_type": "code",
   "execution_count": 6,
   "metadata": {},
   "outputs": [
    {
     "data": {
      "text/plain": [
       "(149, 6)"
      ]
     },
     "execution_count": 6,
     "metadata": {},
     "output_type": "execute_result"
    }
   ],
   "source": [
    "X.shape"
   ]
  }
 ],
 "metadata": {
  "kernelspec": {
   "display_name": "Python 3",
   "language": "python",
   "name": "python3"
  },
  "language_info": {
   "codemirror_mode": {
    "name": "ipython",
    "version": 3
   },
   "file_extension": ".py",
   "mimetype": "text/x-python",
   "name": "python",
   "nbconvert_exporter": "python",
   "pygments_lexer": "ipython3",
   "version": "3.8.2"
  }
 },
 "nbformat": 4,
 "nbformat_minor": 4
}
